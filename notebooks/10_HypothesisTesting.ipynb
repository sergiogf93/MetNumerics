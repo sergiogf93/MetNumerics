{
  "nbformat": 4,
  "nbformat_minor": 0,
  "metadata": {
    "colab": {
      "name": "lecture_1.ipynb",
      "version": "0.3.2",
      "provenance": [],
      "collapsed_sections": [
        "8tVCuBciqb3E",
        "g3098z2LmMiO",
        "OHWKkSRD8nN1"
      ],
      "include_colab_link": true
    },
    "kernelspec": {
      "display_name": "Python 3",
      "language": "python",
      "name": "python3"
    }
  },
  "cells": [
    {
      "cell_type": "markdown",
      "metadata": {
        "id": "view-in-github",
        "colab_type": "text"
      },
      "source": [
        "<a href=\"https://colab.research.google.com/github/sergiogf93/MetNumerics/blob/master/notebooks/10_HypothesisTesting.ipynb\" target=\"_parent\"><img src=\"https://colab.research.google.com/assets/colab-badge.svg\" alt=\"Open In Colab\"/></a>"
      ]
    },
    {
      "cell_type": "code",
      "metadata": {
        "id": "AstPlOO1mMhA",
        "colab_type": "code",
        "colab": {}
      },
      "source": [
        "import numpy as np\n",
        "import matplotlib.pyplot as plt\n",
        "from math import sqrt, pi, erf\n",
        "import scipy.optimize"
      ],
      "execution_count": 0,
      "outputs": []
    },
    {
      "cell_type": "markdown",
      "metadata": {
        "id": "McCDhX8nmMhG",
        "colab_type": "text"
      },
      "source": [
        "Hypothesis Testing\n",
        "===="
      ]
    },
    {
      "cell_type": "markdown",
      "metadata": {
        "id": "OF3d6odRmMhI",
        "colab_type": "text"
      },
      "source": [
        "**Hipòtesi** Anar a la universitat augmenta el teu salari inicial. Com ho podem demostrar?"
      ]
    },
    {
      "cell_type": "markdown",
      "metadata": {
        "id": "1Lb2q1prmMhJ",
        "colab_type": "text"
      },
      "source": [
        "No podem provar-ho directament. Tot i això, podem refutar la hipòtesi contrària, anomenada *hipòtesi nul·la*."
      ]
    },
    {
      "cell_type": "markdown",
      "metadata": {
        "id": "tEC2wQDWmMhL",
        "colab_type": "text"
      },
      "source": [
        "En el nostre exemple: *Anar a la universitat no té cap efecte en el teu salari*"
      ]
    },
    {
      "cell_type": "markdown",
      "metadata": {
        "id": "RHXvzxI4mMhP",
        "colab_type": "text"
      },
      "source": [
        "El test d'hipòtesi és l'habilitat d'utilitzar l'estadística per refutar l'hipòtesi nul·la."
      ]
    },
    {
      "cell_type": "markdown",
      "metadata": {
        "id": "t8kvEIG1mMhS",
        "colab_type": "text"
      },
      "source": [
        "Test d'hipòtesi\n",
        "----\n",
        "Construïm l'hipòtesi nul·la i la prenem com vertadera. Per exemple, creiem que la universitat no té influència en el salari. Això ens permet construir un model probabilístic. Per la universitat, podríem prendre el salari com una distribució normal. Llavors estudiaríem com de probable són les dades *observades* en funció del nostre model de la hipòtesi nul·la. "
      ]
    },
    {
      "cell_type": "markdown",
      "metadata": {
        "id": "llF3-KsNmMhU",
        "colab_type": "text"
      },
      "source": [
        "Exemple de test d'hipòtesi\n",
        "----\n",
        "\n",
        "  Obrim una botiga de compra d'or i la gent ens porta les seves joies. Sabem que la distribucio de probabilitat per la temperatura de fusió de l'or és una normal amb mitjana 1060ºC i les nostres mesures donen una desviació estàndard de 3ºC. \n",
        "  \n",
        " Una persona ens porta una joia d'or i observem que es fon a 1045ºC. Hauríem de sospitar que no és or de veritat?"
      ]
    },
    {
      "cell_type": "markdown",
      "metadata": {
        "id": "0Mhlz7aUmMhX",
        "colab_type": "text"
      },
      "source": [
        "**Hipòtesi nul·la**. La mostra és d'or"
      ]
    },
    {
      "cell_type": "markdown",
      "metadata": {
        "id": "s7MM88SLmMhZ",
        "colab_type": "text"
      },
      "source": [
        "Veiem si ho podem refutar. Si la mostra és d'or, quina és la probabilitat de mesurar el que hem mesurat? "
      ]
    },
    {
      "cell_type": "markdown",
      "metadata": {
        "id": "8tVCuBciqb3E",
        "colab_type": "text"
      },
      "source": [
        "Resposta\n",
        "--------"
      ]
    },
    {
      "cell_type": "markdown",
      "metadata": {
        "id": "RQa6EOh_q01L",
        "colab_type": "text"
      },
      "source": [
        "\n",
        "Zero, ja que és un únic punt en la distribució. La pregunta hauria de ser en quin interval hem d'incloure la mesura."
      ]
    },
    {
      "cell_type": "code",
      "metadata": {
        "id": "A59fc5XamMhb",
        "colab_type": "code",
        "outputId": "dd55830c-9354-4970-9b84-56bfcbc1dbc3",
        "colab": {
          "base_uri": "https://localhost:8080/",
          "height": 34
        }
      },
      "source": [
        "from scipy import stats as ss\n",
        "\n",
        "Z = abs(1045 - 1060.) / 3\n",
        "interval_p = ss.norm.cdf(Z) - ss.norm.cdf(-Z)\n",
        "\n",
        "print(interval_p)"
      ],
      "execution_count": 9,
      "outputs": [
        {
          "output_type": "stream",
          "text": [
            "0.9999994266968562\n"
          ],
          "name": "stdout"
        }
      ]
    },
    {
      "cell_type": "code",
      "metadata": {
        "id": "mByrMDdumMhh",
        "colab_type": "code",
        "colab": {}
      },
      "source": [
        "import numpy as np\n",
        "import matplotlib.pyplot as plt\n",
        "\n",
        "sample = 1045\n",
        "mu = 1060\n",
        "w = mu - sample\n",
        "x = np.linspace(mu - w  - 2, w + mu + 2, 1000)\n",
        "y = ss.norm.pdf(x, loc=mu, scale=3)\n",
        "plt.plot(x,y)\n",
        "plt.fill_between(x, y, where= np.abs(x - mu) < w, color='lightblue')\n",
        "plt.text(mu,np.max(y) / 3, 'Area={}'.format(np.round(interval_p,6)), fontdict={'size':14}, horizontalalignment='center')\n",
        "plt.axvline(mu - w, linestyle='--', color='orange')\n",
        "plt.axvline(mu + w, linestyle='--', color='blue')\n",
        "plt.xticks([mu - w, mu + w], [sample, mu + w])\n",
        "plt.yticks([])\n",
        "plt.ylabel(r'$p(x)$')\n",
        "plt.xlabel(r'$x$')\n",
        "plt.show()"
      ],
      "execution_count": 0,
      "outputs": []
    },
    {
      "cell_type": "markdown",
      "metadata": {
        "id": "ZFDB90ilmMho",
        "colab_type": "text"
      },
      "source": [
        "Observar mesures fora d'aquest interval passa el 0.00000001% de les vegades.\n",
        "\n",
        "Una mica sospitòs, no?"
      ]
    },
    {
      "cell_type": "markdown",
      "metadata": {
        "id": "MVx6Fam_mMhq",
        "colab_type": "text"
      },
      "source": [
        "Quina és la significància\n",
        "----\n",
        "Haguéssim dit que és més significatiu si fos el 0.1%? O l'1%? Per convenció és el 5%. Diem que aquest és el nostre nivell de confiança.\n"
      ]
    },
    {
      "cell_type": "markdown",
      "metadata": {
        "id": "Y0_xVbo8mMhr",
        "colab_type": "text"
      },
      "source": [
        "Hem vist en aquest exemple com comparar una sola mostra amb una població coneguda. Què fem quan no coneixem la desviació estàndard de la població?"
      ]
    },
    {
      "cell_type": "markdown",
      "metadata": {
        "id": "H92juVa-mMht",
        "colab_type": "text"
      },
      "source": [
        "Obrim una botiga de compra d'or i la gent ens porta les seves joies. Sabem que la distribucio de probabilitat per la temperatura de fusió de l'or és una normal amb mitjana 1060ºC. No coneixem la desviació estàndard. Si tinc una mostra que es fon a 1045ºC, hem de sospitar?"
      ]
    },
    {
      "cell_type": "markdown",
      "metadata": {
        "id": "r5nhJRb3mMhu",
        "colab_type": "text"
      },
      "source": [
        "No ho sabem. No tenim manera d'estimar la desviació estàndard amb una sola mostra. "
      ]
    },
    {
      "cell_type": "markdown",
      "metadata": {
        "id": "DzgfuHYAmMhy",
        "colab_type": "text"
      },
      "source": [
        "Metodologia\n",
        "----\n",
        "\n",
        "Els passos a seguir en general per fer un test d'hipòtesi són:\n",
        "1. Construir una hipòtesi nul·la $H_0$, que correspon a una distribució de probabilitat.\n",
        "2. Calcular la probabilitat d'un interval que *inclou* valors tant extrems com la teva mostra. Aquest serà el $p$-valor\n",
        "  (Noteu que aquest interval pot ser simètric o no, depenent de la teva distribució i el teu coneixement de les dades). \n",
        "3. Refutem l'hipòtesi nul·la si el $p$-valor és menor que el nivell de significància ($\\alpha$), normalment 0.05."
      ]
    },
    {
      "cell_type": "markdown",
      "metadata": {
        "id": "OnGPZIXpmMh0",
        "colab_type": "text"
      },
      "source": [
        "Test $t$-Student\n",
        "===="
      ]
    },
    {
      "cell_type": "markdown",
      "metadata": {
        "id": "l2VTGTSAmMh2",
        "colab_type": "text"
      },
      "source": [
        "Obrim una botiga de compra d'or i la gent ens porta les seves joies. Sabem que la distribucio de probabilitat per la temperatura de fusió de l'or és una normal amb mitjana 1060ºC. Una persona ens porta 5 mostres i es fonen a 1035, 1050, 1020, 1055 i 1046ºC. Hauríem de refutar l'hipòtesi nul·la, que són d'or?"
      ]
    },
    {
      "cell_type": "markdown",
      "metadata": {
        "id": "iABp1ysNmMh4",
        "colab_type": "text"
      },
      "source": [
        "#### Pasos:\n",
        "\n",
        "1. Sota l'hipòtesi nul·la, calcula l'incertesa en l'interval de confiança de la mitjana real. Aquesta és la nostra distribució de probabilitat.\n",
        "2. Coneixem la mitjana real, així doncs podem veure quant gran l'interval ha de ser per incluir per incluir-lo. Aquí estem contruint el nostre interval de probabilitat.\n",
        "3. Pren l'àrea de l'interval, el $p$-valor, i compara'l amb el nivell de significància."
      ]
    },
    {
      "cell_type": "code",
      "metadata": {
        "id": "BLMISLnjmMh6",
        "colab_type": "code",
        "colab": {}
      },
      "source": [
        "import numpy as np\n",
        "import matplotlib.pyplot as plt\n",
        "\n",
        "samples = np.array([1035., 1050., 1020., 1055., 1046.])\n",
        "sigma = np.sqrt(np.var(samples, ddof=1))\n",
        "sample_mean = np.mean(samples)\n",
        "mu = 1060\n",
        "w = mu - sample_mean\n",
        "\n",
        "x = np.linspace(mu - w  - 2, w + mu + 2, 1000)\n",
        "y1 = ss.norm.pdf(x, loc=mu, scale=3)\n",
        "y2 = ss.t.pdf(x, loc=mu, scale=sigma / np.sqrt(len(samples)), df=len(samples) - 1)\n",
        "plt.plot(x,y1, label='single sample')\n",
        "plt.plot(x,y2, label='multiple samples')\n",
        "plt.fill_between(x, y1, where= np.abs(x - mu) < w, color='lightblue')\n",
        "\n",
        "plt.axvline(mu - w, linestyle='--', color='orange')\n",
        "plt.axvline(mu + w, linestyle='--', color='gray')\n",
        "plt.xticks([mu - w, mu + w], [sample_mean, mu + w])\n",
        "plt.yticks([])\n",
        "plt.ylabel(r'$p(x)$')\n",
        "plt.xlabel(r'$x$')\n",
        "plt.legend(loc='best')\n",
        "# plt.yscale('log')\n",
        "plt.show()"
      ],
      "execution_count": 0,
      "outputs": []
    },
    {
      "cell_type": "markdown",
      "metadata": {
        "id": "At3Jiis7x2Y2",
        "colab_type": "text"
      },
      "source": [
        "Exercici\n",
        "--"
      ]
    },
    {
      "cell_type": "markdown",
      "metadata": {
        "id": "D19rY7mux9jC",
        "colab_type": "text"
      },
      "source": [
        "Calcula el valor de l'estadístic $T$ que es distribueix com una $t$-Student corresponent a la mostra. Recorda:\n",
        "$$\n",
        "T = \\frac{\\bar{x} - \\mu}{\\sigma_x/\\sqrt{N}}\n",
        "$$"
      ]
    },
    {
      "cell_type": "code",
      "metadata": {
        "id": "FOQxE4TGyT4z",
        "colab_type": "code",
        "colab": {}
      },
      "source": [
        "#Escriu el codi per calcular T corresponent a la mostra [1035., 1050., 1020., 1055., 1046.]\n",
        "\n"
      ],
      "execution_count": 0,
      "outputs": []
    },
    {
      "cell_type": "code",
      "metadata": {
        "id": "jNoMbdOfmMh_",
        "colab_type": "code",
        "cellView": "form",
        "colab": {}
      },
      "source": [
        "#@title\n",
        "samples = np.array([1035., 1050., 1020., 1055., 1046.])\n",
        "sigma = np.sqrt(np.var(samples, ddof=1))\n",
        "sample_mean = np.mean(samples)\n",
        "true_mean = 1060.\n",
        "\n",
        "print(sigma, sample_mean, true_mean)\n",
        "\n",
        "T = (sample_mean - true_mean) / (sigma / np.sqrt(len(samples)))\n",
        "print(T)"
      ],
      "execution_count": 0,
      "outputs": []
    },
    {
      "cell_type": "markdown",
      "metadata": {
        "id": "p0N7BXIGmMiF",
        "colab_type": "text"
      },
      "source": [
        "Ara tenim $T$ i coneixem $P(T)$. El que hem de fer és calcular quant gran ha de ser l'interval per contenir $T$.\n",
        "\n",
        "Dit d'una altra manera, volem trobar el $p$-valor $= 1- \\int_{-T}^T p(t)\\,dt$"
      ]
    },
    {
      "cell_type": "code",
      "metadata": {
        "id": "Tymgw_pZzD-b",
        "colab_type": "code",
        "colab": {}
      },
      "source": [
        "# Escriu el codi per trobar el p-valor corresponent a T.\n",
        "# Recorda que pots obtenir el valor de la funció cumulativa de la t-Student amb\n",
        "# ss.t.cdf(T, dof)\n"
      ],
      "execution_count": 0,
      "outputs": []
    },
    {
      "cell_type": "code",
      "metadata": {
        "id": "IGRlUeuxmMiJ",
        "colab_type": "code",
        "cellView": "form",
        "colab": {}
      },
      "source": [
        "#@title\n",
        "print('T = ', T)\n",
        "\n",
        "p = ss.t.cdf(T, len(samples) - 1) # The integral from -infinity to T\n",
        "print(p, 'Is the single sided p-value')\n",
        "\n",
        "p = 1 - (ss.t.cdf(-T, len(samples) - 1) - ss.t.cdf(T, len(samples) - 1)) # 1- The integral from -T to T\n",
        "print(p, 'Is the double sided p-value')\n",
        "\n",
        "print('notice, just using 2 * the single-sided value gives the same answer')"
      ],
      "execution_count": 0,
      "outputs": []
    },
    {
      "cell_type": "markdown",
      "metadata": {
        "id": "g3098z2LmMiO",
        "colab_type": "text"
      },
      "source": [
        "Què passa si calculem T a l'inrevès?\n",
        "-----"
      ]
    },
    {
      "cell_type": "code",
      "metadata": {
        "id": "WiAIGw56mMiP",
        "colab_type": "code",
        "colab": {}
      },
      "source": [
        "T = (true_mean - sample_mean) / (sigma / sqrt(len(samples)))\n",
        "print (T)\n",
        "\n",
        "p = (scipy.stats.t.cdf(T, len(samples) - 1))\n",
        "print ('CDF gives: ', p)\n",
        "print ('Recognize that includes from -infty up to a positive T, so we need to find the complementary area')\n",
        "\n",
        "print (1 - p, 'Is the single sided p-value')\n",
        "print ((1 - p) * 2, 'Is the double sided p-value')"
      ],
      "execution_count": 0,
      "outputs": []
    },
    {
      "cell_type": "markdown",
      "metadata": {
        "id": "k9mEygZx4ZxH",
        "colab_type": "text"
      },
      "source": [
        "$t$-Test per dues mostres independents\n",
        "==="
      ]
    },
    {
      "cell_type": "markdown",
      "metadata": {
        "id": "S-m09E7h4fiO",
        "colab_type": "text"
      },
      "source": [
        "Importeu les dades \"Weed_Price.csv\" per fer un test d'hipòtesi amb mostres independents."
      ]
    },
    {
      "cell_type": "code",
      "metadata": {
        "id": "AtTuOmwy4uQK",
        "colab_type": "code",
        "colab": {}
      },
      "source": [
        "import pandas as pd"
      ],
      "execution_count": 0,
      "outputs": []
    },
    {
      "cell_type": "code",
      "metadata": {
        "id": "9NvdQQjh4dY2",
        "colab_type": "code",
        "colab": {}
      },
      "source": [
        "weed_pd = pd.read_csv(\"https://raw.githubusercontent.com/sergiogf93/MetNumerics/master/data/Weed_Price.csv\", parse_dates=[-1])"
      ],
      "execution_count": 0,
      "outputs": []
    },
    {
      "cell_type": "code",
      "metadata": {
        "id": "BRlbcRm54v2N",
        "colab_type": "code",
        "colab": {}
      },
      "source": [
        "weed_pd.head()"
      ],
      "execution_count": 0,
      "outputs": []
    },
    {
      "cell_type": "markdown",
      "metadata": {
        "id": "8RWGuQSV4-wk",
        "colab_type": "text"
      },
      "source": [
        "Volem fer un estudy dels preus depenent de l'any. Veiem que tenim una columna \"date\" però voldríem tenir la informació separada en \"month\" i \"year\".\n",
        "\n",
        "Noteu que podem extreure aquesta informació a partir de la columna date:"
      ]
    },
    {
      "cell_type": "code",
      "metadata": {
        "id": "Ztpi7qza49aC",
        "colab_type": "code",
        "colab": {}
      },
      "source": [
        "print(weed_pd[\"date\"][0])\n",
        "print(weed_pd[\"date\"][0].month)\n",
        "print(weed_pd[\"date\"][0].year)"
      ],
      "execution_count": 0,
      "outputs": []
    },
    {
      "cell_type": "markdown",
      "metadata": {
        "id": "iSXrcu295l2f",
        "colab_type": "text"
      },
      "source": [
        "Podem, doncs, afegir dues columnes fent servir funcions anònimes:"
      ]
    },
    {
      "cell_type": "code",
      "metadata": {
        "id": "rTyr7gLs5WA3",
        "colab_type": "code",
        "colab": {}
      },
      "source": [
        "weed_pd[\"month\"] = weed_pd.date.apply(lambda x: x.month)\n",
        "weed_pd[\"year\"] = weed_pd.date.apply(lambda x: x.year)"
      ],
      "execution_count": 0,
      "outputs": []
    },
    {
      "cell_type": "code",
      "metadata": {
        "id": "F-5scu-D5sDv",
        "colab_type": "code",
        "colab": {}
      },
      "source": [
        "weed_pd.head()"
      ],
      "execution_count": 0,
      "outputs": []
    },
    {
      "cell_type": "markdown",
      "metadata": {
        "id": "VT9diaA756Uw",
        "colab_type": "text"
      },
      "source": [
        "Amb pandas podem fer sel·leccions de les dades molt fàcilment. Si volem estudiar el preu de la marihuana a California l'any 2014:"
      ]
    },
    {
      "cell_type": "code",
      "metadata": {
        "id": "KyTaOZiT5yzC",
        "colab_type": "code",
        "colab": {}
      },
      "source": [
        "weed_ca_2014 = weed_pd[(weed_pd.State==\"California\") & (weed_pd.year==2014)]"
      ],
      "execution_count": 0,
      "outputs": []
    },
    {
      "cell_type": "code",
      "metadata": {
        "id": "WxA4GNYt5to0",
        "colab_type": "code",
        "colab": {}
      },
      "source": [
        "#Mean and standard deviation of high quality weed's price\n",
        "print(\"Mean: {}\".format(weed_ca_2014.HighQ.mean()))\n",
        "print(\"Standard Deviation: {}\".format(weed_ca_2014.HighQ.std()))"
      ],
      "execution_count": 0,
      "outputs": []
    },
    {
      "cell_type": "code",
      "metadata": {
        "id": "5iLzvI_F6PdU",
        "colab_type": "code",
        "colab": {}
      },
      "source": [
        "#Confidence interval on the mean\n",
        "ss.norm.interval(0.95, loc=weed_ca_2014.HighQ.mean(), scale = weed_ca_2014.HighQ.std()/np.sqrt(len(weed_ca_2014)))"
      ],
      "execution_count": 0,
      "outputs": []
    },
    {
      "cell_type": "markdown",
      "metadata": {
        "id": "koyvBYXe6fGQ",
        "colab_type": "text"
      },
      "source": [
        "### Pregunta: Són els preus de la marihuana d'alta qualitat a Califòrnia al gener de 2014 més elevats que al gener de 2015? \n",
        "\n",
        "Comencem per extreure les dades. Pren la columna HighQ del dataset seleccionant el mes de gener en dues mostres; una per 2014 i l'altra per 2015."
      ]
    },
    {
      "cell_type": "code",
      "metadata": {
        "id": "PJrhzMbw666d",
        "colab_type": "code",
        "colab": {}
      },
      "source": [
        "# Extreu les dades en dos arrays. Un per gener de 2014 i un altre per gener de 2015\n",
        "# weed_ca_jan2014 = \n",
        "# weed_ca_jan2015 = "
      ],
      "execution_count": 0,
      "outputs": []
    },
    {
      "cell_type": "code",
      "metadata": {
        "id": "tLZSrC1C65i8",
        "colab_type": "code",
        "cellView": "form",
        "colab": {}
      },
      "source": [
        "#@title\n",
        "weed_ca_jan2014 = np.array(weed_pd[(weed_pd.State==\"California\") & (weed_pd.year==2014) & (weed_pd.month==1)].HighQ)\n",
        "weed_ca_jan2015 = np.array(weed_pd[(weed_pd.State==\"California\") & (weed_pd.year==2015) & (weed_pd.month==1)].HighQ)"
      ],
      "execution_count": 0,
      "outputs": []
    },
    {
      "cell_type": "markdown",
      "metadata": {
        "id": "xXloZJ2f7JcX",
        "colab_type": "text"
      },
      "source": [
        "La nostra hipòtesi nul·la és que els preus no són diferents. Per comprovar-ho, farem un t-test de mostres independents. \n",
        "\n",
        "[Més informació](https://en.wikipedia.org/wiki/T-test#Independent_two-sample_t-test)"
      ]
    },
    {
      "cell_type": "markdown",
      "metadata": {
        "id": "41K0hk387b3U",
        "colab_type": "text"
      },
      "source": [
        "L'estadístic $T$ en aquest cas és:\n",
        "$$\n",
        "T = \\frac{\\bar{x_1} - \\bar{x_2}}{s_p \\sqrt{\\frac{2}{N}}}\n",
        "$$\n",
        "on\n",
        "\n",
        "$$\n",
        "s_p = \\sqrt{\\frac{s_{x_1}^2 + s_{x_2}^2}{2}}\n",
        "$$"
      ]
    },
    {
      "cell_type": "markdown",
      "metadata": {
        "id": "fL7FWalm8Rp3",
        "colab_type": "text"
      },
      "source": [
        "Calcula el valor de $T$ i el corresponent $p$ valor:"
      ]
    },
    {
      "cell_type": "code",
      "metadata": {
        "id": "l57cIVQE7GR2",
        "colab_type": "code",
        "colab": {}
      },
      "source": [
        "# Escriu el codi per calcular T tal i com està definit a dalt.\n",
        "# Calcula el p-valor corresponent"
      ],
      "execution_count": 0,
      "outputs": []
    },
    {
      "cell_type": "code",
      "metadata": {
        "id": "dUm7DTw78RZp",
        "colab_type": "code",
        "cellView": "form",
        "colab": {}
      },
      "source": [
        "#@title\n",
        "sigma1 = np.sqrt(np.var(weed_ca_jan2014, ddof=1))\n",
        "sample_mean1 = np.mean(weed_ca_jan2014)\n",
        "sigma2 = np.sqrt(np.var(weed_ca_jan2015, ddof=1))\n",
        "sample_mean2 = np.mean(weed_ca_jan2015)\n",
        "\n",
        "sigmap = np.sqrt((sigma1**2 + sigma2**2)/2)\n",
        "N = len(weed_ca_jan2014)\n",
        "\n",
        "T = (sample_mean2 - sample_mean1) / (sigmap * np.sqrt(2./len(weed_ca_jan2014)))\n",
        "print(T)\n",
        "print(np.mean(weed_ca_jan2014) + T)\n",
        "\n",
        "p = 1 - (ss.t.cdf(-T, len(weed_ca_jan2014) - 1) - ss.t.cdf(T, len(weed_ca_jan2014) - 1)) # 1- The integral from -T to T\n",
        "print(p, 'Is the double sided p-value')"
      ],
      "execution_count": 0,
      "outputs": []
    },
    {
      "cell_type": "markdown",
      "metadata": {
        "id": "OHWKkSRD8nN1",
        "colab_type": "text"
      },
      "source": [
        "Extra\n",
        "---"
      ]
    },
    {
      "cell_type": "code",
      "metadata": {
        "id": "5oO1H5lG8T_P",
        "colab_type": "code",
        "colab": {}
      },
      "source": [
        "ss.ttest_ind(weed_ca_jan2014, weed_ca_jan2015, equal_var=True)"
      ],
      "execution_count": 0,
      "outputs": []
    }
  ]
}